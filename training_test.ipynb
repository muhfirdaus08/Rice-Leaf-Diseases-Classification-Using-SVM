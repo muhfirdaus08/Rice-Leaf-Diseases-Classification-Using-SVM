{
 "cells": [
  {
   "cell_type": "code",
   "execution_count": 133,
   "metadata": {},
   "outputs": [],
   "source": [
    "from sklearn import datasets\n",
    "from sklearn.model_selection import train_test_split\n",
    "from sklearn import svm\n",
    "from sklearn.metrics import accuracy_score\n",
    "from sklearn.metrics import classification_report\n",
    "from sklearn.preprocessing import StandardScaler\n",
    "from sklearn.decomposition import PCA\n",
    "import pandas as pd"
   ]
  },
  {
   "cell_type": "code",
   "execution_count": 134,
   "metadata": {},
   "outputs": [],
   "source": [
    "df = pd.read_csv('image_for_glcm/finalresult_ekstraksiciri.csv')"
   ]
  },
  {
   "cell_type": "code",
   "execution_count": 135,
   "metadata": {},
   "outputs": [
    {
     "data": {
      "text/html": [
       "<div>\n",
       "<style scoped>\n",
       "    .dataframe tbody tr th:only-of-type {\n",
       "        vertical-align: middle;\n",
       "    }\n",
       "\n",
       "    .dataframe tbody tr th {\n",
       "        vertical-align: top;\n",
       "    }\n",
       "\n",
       "    .dataframe thead th {\n",
       "        text-align: right;\n",
       "    }\n",
       "</style>\n",
       "<table border=\"1\" class=\"dataframe\">\n",
       "  <thead>\n",
       "    <tr style=\"text-align: right;\">\n",
       "      <th></th>\n",
       "      <th>path</th>\n",
       "      <th>energi0</th>\n",
       "      <th>homogenitas0</th>\n",
       "      <th>entropy0</th>\n",
       "      <th>contras0</th>\n",
       "      <th>dissimilarity0</th>\n",
       "      <th>ASM0</th>\n",
       "      <th>correlation0</th>\n",
       "      <th>energi45</th>\n",
       "      <th>homogenitas45</th>\n",
       "      <th>...</th>\n",
       "      <th>ASM90</th>\n",
       "      <th>correlation90</th>\n",
       "      <th>energi135</th>\n",
       "      <th>homogenitas135</th>\n",
       "      <th>entropy135</th>\n",
       "      <th>contras135</th>\n",
       "      <th>dissimilarity135</th>\n",
       "      <th>ASM135</th>\n",
       "      <th>correlation135</th>\n",
       "      <th>labels</th>\n",
       "    </tr>\n",
       "  </thead>\n",
       "  <tbody>\n",
       "    <tr>\n",
       "      <th>0</th>\n",
       "      <td>brown-spot-25.JPG</td>\n",
       "      <td>0.954253</td>\n",
       "      <td>0.989211</td>\n",
       "      <td>0.306337</td>\n",
       "      <td>7.158170e+08</td>\n",
       "      <td>5592321.0</td>\n",
       "      <td>0.954253</td>\n",
       "      <td>0.968685</td>\n",
       "      <td>0.949474</td>\n",
       "      <td>0.985165</td>\n",
       "      <td>...</td>\n",
       "      <td>0.950560</td>\n",
       "      <td>0.923517</td>\n",
       "      <td>0.949349</td>\n",
       "      <td>0.985057</td>\n",
       "      <td>0.344857</td>\n",
       "      <td>7.158170e+08</td>\n",
       "      <td>5592321.0</td>\n",
       "      <td>0.949349</td>\n",
       "      <td>0.909977</td>\n",
       "      <td>Brown spot</td>\n",
       "    </tr>\n",
       "    <tr>\n",
       "      <th>1</th>\n",
       "      <td>brown-spot-12.jpg</td>\n",
       "      <td>0.742376</td>\n",
       "      <td>0.978777</td>\n",
       "      <td>1.067667</td>\n",
       "      <td>7.158170e+08</td>\n",
       "      <td>5592321.0</td>\n",
       "      <td>0.742376</td>\n",
       "      <td>0.979366</td>\n",
       "      <td>0.728567</td>\n",
       "      <td>0.953264</td>\n",
       "      <td>...</td>\n",
       "      <td>0.732660</td>\n",
       "      <td>0.948599</td>\n",
       "      <td>0.727917</td>\n",
       "      <td>0.952576</td>\n",
       "      <td>1.246058</td>\n",
       "      <td>7.158170e+08</td>\n",
       "      <td>5592321.0</td>\n",
       "      <td>0.727917</td>\n",
       "      <td>0.932773</td>\n",
       "      <td>Brown spot</td>\n",
       "    </tr>\n",
       "    <tr>\n",
       "      <th>2</th>\n",
       "      <td>brown-spot-20.JPG</td>\n",
       "      <td>0.932750</td>\n",
       "      <td>0.979182</td>\n",
       "      <td>0.522675</td>\n",
       "      <td>7.158170e+08</td>\n",
       "      <td>5592321.0</td>\n",
       "      <td>0.932750</td>\n",
       "      <td>0.943299</td>\n",
       "      <td>0.923675</td>\n",
       "      <td>0.968940</td>\n",
       "      <td>...</td>\n",
       "      <td>0.925114</td>\n",
       "      <td>0.789914</td>\n",
       "      <td>0.924044</td>\n",
       "      <td>0.969154</td>\n",
       "      <td>0.601114</td>\n",
       "      <td>7.158170e+08</td>\n",
       "      <td>5592321.0</td>\n",
       "      <td>0.924044</td>\n",
       "      <td>0.769213</td>\n",
       "      <td>Brown spot</td>\n",
       "    </tr>\n",
       "    <tr>\n",
       "      <th>3</th>\n",
       "      <td>brown-spot-1.jpg</td>\n",
       "      <td>0.808033</td>\n",
       "      <td>0.978192</td>\n",
       "      <td>0.919068</td>\n",
       "      <td>7.158170e+08</td>\n",
       "      <td>5592321.0</td>\n",
       "      <td>0.808033</td>\n",
       "      <td>0.969490</td>\n",
       "      <td>0.795524</td>\n",
       "      <td>0.956007</td>\n",
       "      <td>...</td>\n",
       "      <td>0.800455</td>\n",
       "      <td>0.936894</td>\n",
       "      <td>0.796885</td>\n",
       "      <td>0.957426</td>\n",
       "      <td>1.055307</td>\n",
       "      <td>7.158170e+08</td>\n",
       "      <td>5592321.0</td>\n",
       "      <td>0.796885</td>\n",
       "      <td>0.919643</td>\n",
       "      <td>Brown spot</td>\n",
       "    </tr>\n",
       "    <tr>\n",
       "      <th>4</th>\n",
       "      <td>brown-spot-10.jpg</td>\n",
       "      <td>0.814720</td>\n",
       "      <td>0.988140</td>\n",
       "      <td>0.711443</td>\n",
       "      <td>7.158170e+08</td>\n",
       "      <td>5592321.0</td>\n",
       "      <td>0.814720</td>\n",
       "      <td>0.980361</td>\n",
       "      <td>0.806812</td>\n",
       "      <td>0.974399</td>\n",
       "      <td>...</td>\n",
       "      <td>0.811394</td>\n",
       "      <td>0.966778</td>\n",
       "      <td>0.806831</td>\n",
       "      <td>0.974407</td>\n",
       "      <td>0.810008</td>\n",
       "      <td>7.158170e+08</td>\n",
       "      <td>5592321.0</td>\n",
       "      <td>0.806831</td>\n",
       "      <td>0.950032</td>\n",
       "      <td>Brown spot</td>\n",
       "    </tr>\n",
       "  </tbody>\n",
       "</table>\n",
       "<p>5 rows × 30 columns</p>\n",
       "</div>"
      ],
      "text/plain": [
       "                path   energi0  homogenitas0  entropy0      contras0  \\\n",
       "0  brown-spot-25.JPG  0.954253      0.989211  0.306337  7.158170e+08   \n",
       "1  brown-spot-12.jpg  0.742376      0.978777  1.067667  7.158170e+08   \n",
       "2  brown-spot-20.JPG  0.932750      0.979182  0.522675  7.158170e+08   \n",
       "3   brown-spot-1.jpg  0.808033      0.978192  0.919068  7.158170e+08   \n",
       "4  brown-spot-10.jpg  0.814720      0.988140  0.711443  7.158170e+08   \n",
       "\n",
       "   dissimilarity0      ASM0  correlation0  energi45  homogenitas45  ...  \\\n",
       "0       5592321.0  0.954253      0.968685  0.949474       0.985165  ...   \n",
       "1       5592321.0  0.742376      0.979366  0.728567       0.953264  ...   \n",
       "2       5592321.0  0.932750      0.943299  0.923675       0.968940  ...   \n",
       "3       5592321.0  0.808033      0.969490  0.795524       0.956007  ...   \n",
       "4       5592321.0  0.814720      0.980361  0.806812       0.974399  ...   \n",
       "\n",
       "      ASM90  correlation90  energi135  homogenitas135  entropy135  \\\n",
       "0  0.950560       0.923517   0.949349        0.985057    0.344857   \n",
       "1  0.732660       0.948599   0.727917        0.952576    1.246058   \n",
       "2  0.925114       0.789914   0.924044        0.969154    0.601114   \n",
       "3  0.800455       0.936894   0.796885        0.957426    1.055307   \n",
       "4  0.811394       0.966778   0.806831        0.974407    0.810008   \n",
       "\n",
       "     contras135  dissimilarity135    ASM135  correlation135      labels  \n",
       "0  7.158170e+08         5592321.0  0.949349        0.909977  Brown spot  \n",
       "1  7.158170e+08         5592321.0  0.727917        0.932773  Brown spot  \n",
       "2  7.158170e+08         5592321.0  0.924044        0.769213  Brown spot  \n",
       "3  7.158170e+08         5592321.0  0.796885        0.919643  Brown spot  \n",
       "4  7.158170e+08         5592321.0  0.806831        0.950032  Brown spot  \n",
       "\n",
       "[5 rows x 30 columns]"
      ]
     },
     "execution_count": 135,
     "metadata": {},
     "output_type": "execute_result"
    }
   ],
   "source": [
    "df.head(5)"
   ]
  },
  {
   "cell_type": "code",
   "execution_count": 136,
   "metadata": {},
   "outputs": [],
   "source": [
    "df = df.fillna(0)"
   ]
  },
  {
   "cell_type": "code",
   "execution_count": 137,
   "metadata": {},
   "outputs": [],
   "source": [
    "y = df['labels']\n",
    "X = df.drop(['labels', 'path'], axis = 1)"
   ]
  },
  {
   "cell_type": "code",
   "execution_count": 138,
   "metadata": {},
   "outputs": [],
   "source": [
    "scaler = StandardScaler()\n",
    "X_scaled = scaler.fit_transform(X)"
   ]
  },
  {
   "cell_type": "code",
   "execution_count": 139,
   "metadata": {},
   "outputs": [],
   "source": [
    "#apply PCA\n",
    "pca = PCA(n_components=4)\n",
    "pca.fit(X_scaled)\n",
    "X_pca = pca.transform(X_scaled)"
   ]
  },
  {
   "cell_type": "code",
   "execution_count": 140,
   "metadata": {},
   "outputs": [],
   "source": [
    "X_train, X_test, y_train, y_test = train_test_split(X_pca, y, test_size=0.25)"
   ]
  },
  {
   "cell_type": "code",
   "execution_count": 141,
   "metadata": {},
   "outputs": [],
   "source": [
    "model = svm.SVC()\n",
    "model.fit(X_train, y_train)\n",
    "# predicting the response for test dataset\n",
    "y_pred = model.predict(X_test)"
   ]
  },
  {
   "cell_type": "code",
   "execution_count": 142,
   "metadata": {},
   "outputs": [
    {
     "name": "stdout",
     "output_type": "stream",
     "text": [
      "Accuracy: 90 %\n"
     ]
    }
   ],
   "source": [
    "# reporting model accuracy\n",
    "print(\"Accuracy:\", round(accuracy_score(y_test, y_pred)*100),'%')"
   ]
  },
  {
   "cell_type": "code",
   "execution_count": 143,
   "metadata": {},
   "outputs": [
    {
     "data": {
      "text/plain": [
       "array(['Brown spot', 'Brown spot', 'Brown spot', 'Bacterial leaf blight',\n",
       "       'Leaf smut', 'Brown spot', 'Bacterial leaf blight', 'Leaf smut',\n",
       "       'Leaf smut', 'Bacterial leaf blight', 'Brown spot',\n",
       "       'Bacterial leaf blight', 'Brown spot', 'Leaf smut', 'Leaf smut',\n",
       "       'Leaf smut', 'Brown spot', 'Bacterial leaf blight', 'Brown spot',\n",
       "       'Brown spot', 'Leaf smut', 'Brown spot', 'Leaf smut', 'Brown spot',\n",
       "       'Leaf smut', 'Bacterial leaf blight', 'Brown spot',\n",
       "       'Bacterial leaf blight', 'Leaf smut', 'Brown spot'], dtype=object)"
      ]
     },
     "execution_count": 143,
     "metadata": {},
     "output_type": "execute_result"
    }
   ],
   "source": [
    "y_pred"
   ]
  },
  {
   "cell_type": "code",
   "execution_count": 144,
   "metadata": {},
   "outputs": [
    {
     "data": {
      "text/plain": [
       "33                Brown spot\n",
       "24                Brown spot\n",
       "18                Brown spot\n",
       "101    Bacterial leaf blight\n",
       "56                 Leaf smut\n",
       "31                Brown spot\n",
       "116    Bacterial leaf blight\n",
       "23                Brown spot\n",
       "68                 Leaf smut\n",
       "109    Bacterial leaf blight\n",
       "5                 Brown spot\n",
       "84     Bacterial leaf blight\n",
       "6                 Brown spot\n",
       "51                 Leaf smut\n",
       "65                 Leaf smut\n",
       "69                 Leaf smut\n",
       "39                Brown spot\n",
       "114    Bacterial leaf blight\n",
       "13                Brown spot\n",
       "26                Brown spot\n",
       "72                 Leaf smut\n",
       "36                Brown spot\n",
       "74                 Leaf smut\n",
       "15                Brown spot\n",
       "10                Brown spot\n",
       "1                 Brown spot\n",
       "7                 Brown spot\n",
       "97     Bacterial leaf blight\n",
       "71                 Leaf smut\n",
       "32                Brown spot\n",
       "Name: labels, dtype: object"
      ]
     },
     "execution_count": 144,
     "metadata": {},
     "output_type": "execute_result"
    }
   ],
   "source": [
    "y_test"
   ]
  },
  {
   "cell_type": "code",
   "execution_count": 145,
   "metadata": {},
   "outputs": [
    {
     "name": "stdout",
     "output_type": "stream",
     "text": [
      "                       precision    recall  f1-score   support\n",
      "\n",
      "Bacterial leaf blight       0.86      1.00      0.92         6\n",
      "           Brown spot       1.00      0.81      0.90        16\n",
      "            Leaf smut       0.80      1.00      0.89         8\n",
      "\n",
      "             accuracy                           0.90        30\n",
      "            macro avg       0.89      0.94      0.90        30\n",
      "         weighted avg       0.92      0.90      0.90        30\n",
      "\n"
     ]
    }
   ],
   "source": [
    "print(classification_report(y_test, y_pred))"
   ]
  }
 ],
 "metadata": {
  "kernelspec": {
   "display_name": "Python 3.10.4 64-bit",
   "language": "python",
   "name": "python3"
  },
  "language_info": {
   "codemirror_mode": {
    "name": "ipython",
    "version": 3
   },
   "file_extension": ".py",
   "mimetype": "text/x-python",
   "name": "python",
   "nbconvert_exporter": "python",
   "pygments_lexer": "ipython3",
   "version": "3.10.6 (main, Nov 14 2022, 16:10:14) [GCC 11.3.0]"
  },
  "orig_nbformat": 4,
  "vscode": {
   "interpreter": {
    "hash": "916dbcbb3f70747c44a77c7bcd40155683ae19c65e1c03b4aa3499c5328201f1"
   }
  }
 },
 "nbformat": 4,
 "nbformat_minor": 2
}
